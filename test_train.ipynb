{
  "nbformat": 4,
  "nbformat_minor": 0,
  "metadata": {
    "colab": {
      "provenance": [],
      "authorship_tag": "ABX9TyODdzUvEl5MItLl9eRYyfTX",
      "include_colab_link": true
    },
    "kernelspec": {
      "name": "python3",
      "display_name": "Python 3"
    },
    "language_info": {
      "name": "python"
    }
  },
  "cells": [
    {
      "cell_type": "markdown",
      "metadata": {
        "id": "view-in-github",
        "colab_type": "text"
      },
      "source": [
        "<a href=\"https://colab.research.google.com/github/stalin99835/DUDL/blob/main/test_train.ipynb\" target=\"_parent\"><img src=\"https://colab.research.google.com/assets/colab-badge.svg\" alt=\"Open In Colab\"/></a>"
      ]
    },
    {
      "cell_type": "code",
      "execution_count": null,
      "metadata": {
        "id": "5CLdX9GLLNzq"
      },
      "outputs": [],
      "source": [
        "import torch\n",
        "import torch.nn as nn\n",
        "import numpy as np\n",
        "import seaborn as sns"
      ]
    },
    {
      "cell_type": "code",
      "source": [
        "iris = sns.load_dataset('iris')\n",
        "data = torch.tensor(iris[iris.columns[0:4]].values).float()\n",
        "\n",
        "labels = torch.zeros(len(data),dtype=torch.long)\n",
        "\n",
        "labels[iris.species=='setosa'] = 0\n",
        "labels[iris.species=='versicolor'] = 1\n",
        "labels[iris.species=='virginica'] = 2\n"
      ],
      "metadata": {
        "id": "fsPifiu6LfVN"
      },
      "execution_count": null,
      "outputs": []
    },
    {
      "cell_type": "code",
      "source": [
        "propTraining = 0.8\n",
        "nTraining = int(len(labels)*propTraining)\n",
        "\n",
        "traintestBool = np.zeros(len(labels),dtype=bool)\n",
        "print(traintestBool)\n",
        "#traintestBool[range(nTraining)] = True\n",
        "item2use4train = np.random.choice(range(len(labels)),nTraining,replace=False)\n",
        "traintestBool[item2use4train] = True\n",
        "print(traintestBool)\n",
        "#print(np.where(traintestBool))"
      ],
      "metadata": {
        "id": "Ylrv4XvBMeiz"
      },
      "execution_count": null,
      "outputs": []
    },
    {
      "cell_type": "code",
      "source": [
        "print('average all data')\n",
        "print(torch.mean(labels.float()))\n",
        "print(' ')\n",
        "\n",
        "print('average of trainng data')\n",
        "print(torch.mean(labels[traintestBool].float()))\n",
        "\n",
        "print('average of test data')\n",
        "print(torch.mean(labels[~traintestBool].float()))"
      ],
      "metadata": {
        "id": "oiDu4Cq9OVj2"
      },
      "execution_count": null,
      "outputs": []
    },
    {
      "cell_type": "code",
      "source": [
        "ANNiris = nn.Sequential(\n",
        "    nn.Linear(4,64),\n",
        "    nn.ReLU(),\n",
        "    nn.Linear(64,64),\n",
        "    nn.ReLU(),\n",
        "    nn.Linear(64,3),\n",
        ")\n",
        "\n",
        "lossfun = nn.CrossEntropyLoss()\n",
        "\n",
        "optimizer = torch.optim.SGD(ANNiris.parameters(),lr=0.01)"
      ],
      "metadata": {
        "id": "ChNoJP0zS0D0"
      },
      "execution_count": 57,
      "outputs": []
    },
    {
      "cell_type": "code",
      "source": [
        "print(data.shape)\n",
        "print(data[traintestBool].shape)\n",
        "print(data[~traintestBool].shape)"
      ],
      "metadata": {
        "colab": {
          "base_uri": "https://localhost:8080/"
        },
        "id": "RyzoMP6ZTj_d",
        "outputId": "78326d60-486f-43e7-c698-945c4c62f89f"
      },
      "execution_count": 34,
      "outputs": [
        {
          "output_type": "stream",
          "name": "stdout",
          "text": [
            "torch.Size([150, 4])\n",
            "torch.Size([120, 4])\n",
            "torch.Size([30, 4])\n"
          ]
        }
      ]
    },
    {
      "cell_type": "code",
      "source": [
        "numepochs = 1000\n",
        "losses = torch.zeros(numepochs)\n",
        "ongoingAcc = []\n",
        "\n",
        "for epochi in range(numepochs):\n",
        "  yHat = ANNiris(data[traintestBool])\n",
        "  ongoingAcc.append(100*torch.mean(\n",
        "      (torch.argmax(yHat,axis=1)==labels[traintestBool]).float()))\n",
        "\n",
        "  loss = lossfun(yHat,labels[traintestBool])\n",
        "  losses[epochi] = loss\n",
        "\n",
        "  optimizer.zero_grad()\n",
        "  loss.backward()\n",
        "  optimizer.step()\n",
        "\n",
        "predictions = ANNiris(data[traintestBool])\n",
        "testacc = 100*torch.mean(\n",
        "      (torch.argmax(predictions,axis=1)==labels[traintestBool]).float())\n",
        "\n",
        "predictions = ANNiris(data[~traintestBool])\n",
        "trainacc = 100*torch.mean(\n",
        "      (torch.argmax(predictions,axis=1)==labels[~traintestBool]).float())\n",
        "\n",
        "\n"
      ],
      "metadata": {
        "id": "sDoO_adBUGG7"
      },
      "execution_count": 58,
      "outputs": []
    },
    {
      "cell_type": "code",
      "source": [
        "print('trainacc: %g%%' %(trainacc))\n",
        "print('testacc: %g%%' %testacc)"
      ],
      "metadata": {
        "colab": {
          "base_uri": "https://localhost:8080/"
        },
        "id": "VAHDWOwSXJCl",
        "outputId": "d867b951-9586-41f7-a425-3809afcf63ea"
      },
      "execution_count": 59,
      "outputs": [
        {
          "output_type": "stream",
          "name": "stdout",
          "text": [
            "trainacc: 93.3333%\n",
            "testacc: 99.1667%\n"
          ]
        }
      ]
    },
    {
      "cell_type": "code",
      "source": [
        "from sklearn.model_selection import train_test_split"
      ],
      "metadata": {
        "id": "RLZzqrFzaY82"
      },
      "execution_count": 60,
      "outputs": []
    },
    {
      "cell_type": "code",
      "source": [],
      "metadata": {
        "id": "o9T2I0-eal4i"
      },
      "execution_count": null,
      "outputs": []
    }
  ]
}