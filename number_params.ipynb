{
  "nbformat": 4,
  "nbformat_minor": 0,
  "metadata": {
    "colab": {
      "provenance": [],
      "authorship_tag": "ABX9TyOu+7f7RRFWQkajR55Jxz6B",
      "include_colab_link": true
    },
    "kernelspec": {
      "name": "python3",
      "display_name": "Python 3"
    },
    "language_info": {
      "name": "python"
    }
  },
  "cells": [
    {
      "cell_type": "markdown",
      "metadata": {
        "id": "view-in-github",
        "colab_type": "text"
      },
      "source": [
        "<a href=\"https://colab.research.google.com/github/stalin99835/DUDL/blob/main/number_params.ipynb\" target=\"_parent\"><img src=\"https://colab.research.google.com/assets/colab-badge.svg\" alt=\"Open In Colab\"/></a>"
      ]
    },
    {
      "cell_type": "code",
      "execution_count": 2,
      "metadata": {
        "id": "6YHTEgBlZOaP"
      },
      "outputs": [],
      "source": [
        "import torch\n",
        "import torch.nn as nn\n",
        "import numpy as np"
      ]
    },
    {
      "cell_type": "code",
      "source": [
        "widenet = nn.Sequential(\n",
        "    nn.Linear(2,4),\n",
        "    nn.Linear(4,3),\n",
        ")\n",
        "\n",
        "deepnet  = nn.Sequential(\n",
        "    nn.Linear(2,2),\n",
        "    nn.Linear(2,2),\n",
        "    nn.Linear(2,3),\n",
        ")\n",
        "\n",
        "print(widenet)\n",
        "print(' ')\n",
        "print(deepnet)"
      ],
      "metadata": {
        "colab": {
          "base_uri": "https://localhost:8080/"
        },
        "id": "uj0fGg3SZf4N",
        "outputId": "5597fd27-2eca-406d-89a8-e1174a5b6094"
      },
      "execution_count": 9,
      "outputs": [
        {
          "output_type": "stream",
          "name": "stdout",
          "text": [
            "Sequential(\n",
            "  (0): Linear(in_features=2, out_features=4, bias=True)\n",
            "  (1): Linear(in_features=4, out_features=3, bias=True)\n",
            ")\n",
            " \n",
            "Sequential(\n",
            "  (0): Linear(in_features=2, out_features=2, bias=True)\n",
            "  (1): Linear(in_features=2, out_features=2, bias=True)\n",
            "  (2): Linear(in_features=2, out_features=3, bias=True)\n",
            ")\n"
          ]
        }
      ]
    },
    {
      "cell_type": "code",
      "source": [
        "for p in deepnet.named_parameters():\n",
        "  print(p)\n",
        "  print(' ')"
      ],
      "metadata": {
        "colab": {
          "base_uri": "https://localhost:8080/"
        },
        "id": "B3rSfxBfas-y",
        "outputId": "049dfc47-f73c-4a83-e19e-c141d4318212"
      },
      "execution_count": 10,
      "outputs": [
        {
          "output_type": "stream",
          "name": "stdout",
          "text": [
            "('0.weight', Parameter containing:\n",
            "tensor([[-0.0859,  0.5331],\n",
            "        [-0.2321, -0.4872]], requires_grad=True))\n",
            " \n",
            "('0.bias', Parameter containing:\n",
            "tensor([-0.6717,  0.3243], requires_grad=True))\n",
            " \n",
            "('1.weight', Parameter containing:\n",
            "tensor([[ 0.4979, -0.2705],\n",
            "        [-0.4449,  0.4485]], requires_grad=True))\n",
            " \n",
            "('1.bias', Parameter containing:\n",
            "tensor([ 0.5096, -0.2984], requires_grad=True))\n",
            " \n",
            "('2.weight', Parameter containing:\n",
            "tensor([[-0.2074,  0.5414],\n",
            "        [-0.4442,  0.0350],\n",
            "        [-0.6065, -0.3397]], requires_grad=True))\n",
            " \n",
            "('2.bias', Parameter containing:\n",
            "tensor([-0.2288, -0.2805, -0.4664], requires_grad=True))\n",
            " \n"
          ]
        }
      ]
    },
    {
      "cell_type": "code",
      "source": [
        "numnodesinwide = 0\n",
        "for p in widenet.named_parameters():\n",
        "  if 'bias' in p[0]:\n",
        "    numnodesinwide+= len(p[1])\n",
        "\n",
        "print(numnodesinwide)\n",
        "\n",
        "numnodesindeepnet = 0\n",
        "\n",
        "for paramName,paramVect in deepnet.named_parameters():\n",
        "  if 'bias' in paramName:\n",
        "    numnodesindeepnet += len(paramVect)\n",
        "\n",
        "print('There are %s nodes in the wide network' %(numnodesinwide))\n",
        "print('There are %s nodes in the deep network' %(numnodesindeepnet))\n",
        "\n",
        "for p in widenet.parameters():\n",
        "  print(p)\n",
        "  print(' ')\n",
        "\n",
        "numparms = 0\n",
        "for p in widenet.parameters():\n",
        "  if p.requires_grad:\n",
        "    print('this has %s parameters' %(p.numel()))\n",
        "    numparms +=p.numel()\n",
        "    print(p.numel)\n",
        ""
      ],
      "metadata": {
        "colab": {
          "base_uri": "https://localhost:8080/"
        },
        "id": "0PVnYhx_bvC7",
        "outputId": "2f9cadfb-eea4-4804-d644-c6d800706c6b"
      },
      "execution_count": 25,
      "outputs": [
        {
          "output_type": "stream",
          "name": "stdout",
          "text": [
            "7\n",
            "There are 7 nodes in the wide network\n",
            "There are 7 nodes in the deep network\n",
            "Parameter containing:\n",
            "tensor([[-0.6941,  0.5919],\n",
            "        [-0.6015, -0.0009],\n",
            "        [-0.2867,  0.1567],\n",
            "        [-0.2790,  0.6885]], requires_grad=True)\n",
            " \n",
            "Parameter containing:\n",
            "tensor([0.4091, 0.2097, 0.1515, 0.3424], requires_grad=True)\n",
            " \n",
            "Parameter containing:\n",
            "tensor([[-0.0749,  0.1661,  0.2372, -0.1557],\n",
            "        [-0.2537, -0.2644,  0.3195, -0.4712],\n",
            "        [ 0.2550,  0.2533, -0.4311,  0.2002]], requires_grad=True)\n",
            " \n",
            "Parameter containing:\n",
            "tensor([0.2047, 0.1398, 0.2452], requires_grad=True)\n",
            " \n",
            "this has 8 parameters\n",
            "<built-in method numel of Parameter object at 0x7f6a8f732bb0>\n",
            "this has 4 parameters\n",
            "<built-in method numel of Parameter object at 0x7f6a8f730680>\n",
            "this has 12 parameters\n",
            "<built-in method numel of Parameter object at 0x7f6a8f6a6660>\n",
            "this has 3 parameters\n",
            "<built-in method numel of Parameter object at 0x7f6a8f7306d0>\n"
          ]
        }
      ]
    },
    {
      "cell_type": "code",
      "source": [
        "from torchsummary import summary\n",
        "summary(widenet,(1,2))"
      ],
      "metadata": {
        "colab": {
          "base_uri": "https://localhost:8080/"
        },
        "id": "SsJCnFcIhJIp",
        "outputId": "760c3eeb-8b7d-458e-f07f-ab2b9d8c7ea3"
      },
      "execution_count": 27,
      "outputs": [
        {
          "output_type": "stream",
          "name": "stdout",
          "text": [
            "----------------------------------------------------------------\n",
            "        Layer (type)               Output Shape         Param #\n",
            "================================================================\n",
            "            Linear-1                 [-1, 1, 4]              12\n",
            "            Linear-2                 [-1, 1, 3]              15\n",
            "================================================================\n",
            "Total params: 27\n",
            "Trainable params: 27\n",
            "Non-trainable params: 0\n",
            "----------------------------------------------------------------\n",
            "Input size (MB): 0.00\n",
            "Forward/backward pass size (MB): 0.00\n",
            "Params size (MB): 0.00\n",
            "Estimated Total Size (MB): 0.00\n",
            "----------------------------------------------------------------\n"
          ]
        }
      ]
    },
    {
      "cell_type": "markdown",
      "source": [],
      "metadata": {
        "id": "nvjBZWVzeNlb"
      }
    },
    {
      "cell_type": "markdown",
      "source": [],
      "metadata": {
        "id": "Sb9oUf26hdP_"
      }
    }
  ]
}